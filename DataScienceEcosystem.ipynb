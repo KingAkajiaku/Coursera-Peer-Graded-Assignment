{
 "cells": [
  {
   "cell_type": "markdown",
   "id": "2685d200",
   "metadata": {},
   "source": [
    "# Data Science Tools and Ecosystem"
   ]
  },
  {
   "cell_type": "markdown",
   "id": "b0b13658",
   "metadata": {},
   "source": [
    "In this notebook, Data Science Tools and Ecosystem are summarized."
   ]
  },
  {
   "cell_type": "markdown",
   "id": "216cdc16",
   "metadata": {},
   "source": [
    "### Objectives:\n",
    "* popular languages for Data Science\n",
    "* libraries used by Data Scientists\n",
    "* Data Science Tools\n",
    "* evaluating arithmetic expressions in Python"
   ]
  },
  {
   "cell_type": "markdown",
   "id": "44d38ed9",
   "metadata": {},
   "source": [
    "Some of the popular languages that Data Scientists use are:\n",
    "1. Python\n",
    "2. SQL\n",
    "3. R\n",
    "4. JavaScript\n",
    "5. Julia\n",
    "6. Scala"
   ]
  },
  {
   "cell_type": "markdown",
   "id": "880dcd0d",
   "metadata": {},
   "source": [
    "Some of the commonly used libraries used by Data Scientists include:\n",
    "1. NumPy\n",
    "4. SciPy\n",
    "5. Pandas \n",
    "6. Keras\n",
    "7. SciKit-Learn\n",
    "8. PyTorch\n",
    "9. TensorFlow"
   ]
  },
  {
   "cell_type": "markdown",
   "id": "c0dff50b",
   "metadata": {},
   "source": [
    "Data Science Tools\n",
    "---- ------- -----\n",
    "* Jupyter Notebook\n",
    "* RStudio\n",
    "* Apache Spark"
   ]
  },
  {
   "cell_type": "markdown",
   "id": "7a8af5bc",
   "metadata": {},
   "source": [
    "### Below are a few examples of evaluating arithmetic expressions in Python\n",
    "eval()\n",
    "(3 + 4)\n",
    "(7 - 3)\n",
    "30/4"
   ]
  },
  {
   "cell_type": "code",
   "execution_count": 3,
   "id": "f0405dac",
   "metadata": {},
   "outputs": [
    {
     "data": {
      "text/plain": [
       "17"
      ]
     },
     "execution_count": 3,
     "metadata": {},
     "output_type": "execute_result"
    }
   ],
   "source": [
    " #This a simple arithmetic expression to mutiply then add integers\n",
    "(3*4)+5"
   ]
  },
  {
   "cell_type": "code",
   "execution_count": 4,
   "id": "84f397bc",
   "metadata": {},
   "outputs": [
    {
     "name": "stdout",
     "output_type": "stream",
     "text": [
      "3.3333333333333335\n"
     ]
    }
   ],
   "source": [
    "#This will convert 200 minutes to hours by diving by 60\n",
    "minutes = 200\n",
    "hours = minutes/60\n",
    "print(hours)"
   ]
  },
  {
   "cell_type": "markdown",
   "id": "4565f6b0",
   "metadata": {},
   "source": [
    "## Author\n",
    "ONYIUKE AFAM RAPHAEL"
   ]
  },
  {
   "cell_type": "code",
   "execution_count": null,
   "id": "be2f8af1",
   "metadata": {},
   "outputs": [],
   "source": []
  }
 ],
 "metadata": {
  "kernelspec": {
   "display_name": "Python 3 (ipykernel)",
   "language": "python",
   "name": "python3"
  },
  "language_info": {
   "codemirror_mode": {
    "name": "ipython",
    "version": 3
   },
   "file_extension": ".py",
   "mimetype": "text/x-python",
   "name": "python",
   "nbconvert_exporter": "python",
   "pygments_lexer": "ipython3",
   "version": "3.9.12"
  }
 },
 "nbformat": 4,
 "nbformat_minor": 5
}
